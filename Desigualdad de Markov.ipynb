{
 "cells": [
  {
   "cell_type": "markdown",
   "id": "e20315e2",
   "metadata": {},
   "source": [
    "# Acotar o establecer limites en la probabilidad\n",
    "\n",
    "## **Desigualdad de Markov**\n",
    "\n",
    "La **desigualdad de Markov** es una herramienta matemática que nos permite establecer **límites superiores sobre la probabilidad de que una variable aleatoria tome valores grandes**. \n",
    "\n",
    "En otras palabras, nos ayuda a **acotar** la probabilidad de que una variable aleatoria positiva **sea mayor o igual que un valor específico.**\n",
    "\n",
    "Establecer límites en la probabilidad de que una variable aleatoria tome valores grandes puede ser útil para evaluar cuán probable es que ocurran eventos poco probables o extremos, o para establecer límites superiores en el riesgo o la incertidumbre asociados con una situación o evento en particular.\n",
    "\n",
    "La desigualdad de Markov es más adecuada cuando la variable aleatoria de interés tiene una distribución muy dispersa y con colas pesadas (es decir, con probabilidades significativas de tomar valores muy grandes). \n",
    "\n",
    "==============================================================================================================================\n",
    "\n",
    "> **EJEMPLO:** Supongamos que tenemos una **variable aleatoria X** que representa el **número de veces que un equipo de fútbol anota un gol en un partido.** Sabemos que X es una variable aleatoria positiva, es decir, que solo toma valores mayores o iguales que cero.\n",
    ">\n",
    "> **- Expresión**: `X >= 0`\n",
    ">\n",
    "> Supongamos que queremos saber **cuál es la probabilidad de que el equipo de fútbol anote al menos 3 goles en un partido**. Podríamos intentar calcular directamente esta probabilidad, pero podría ser un poco complicado debido a que la distribución de probabilidad de X podría ser muy compleja.\n",
    "\n",
    "==============================================================================================================================\n",
    "\n",
    "\n",
    "En este ejemplo, se puede utilizar la **desigualdad de Markov**. Esta nos dice que la probabilidad de que **X** sea mayor o igual que un valor **a** es menor o igual que la media de X dividida entre a. En otras palabras:\n",
    "\n",
    "> **- Formula:** `P(X >= a) <= E(X) / a`\n",
    "\n",
    "- Donde `P` representa la probabilidad.\n",
    "- Donde `E(X)` representa la media de la variable aleatoria X. \n",
    "- Donde `E(X)` = `media` = `sumatoria(xi * pi)`, donde **xi** son los posibles valores de X y **pi** son las probabilidades correspondientes para cada valor.\n",
    "- Donde `a` representa el valor límite a partir del cual se quiere establecer un límite superior para la probabilidad de que X tome valores mayores o iguales que a.\n",
    "\n",
    "Por lo tanto, teniendo los datos:\n",
    "\n",
    "- **Goles por partido** = [3, 2, 1, 1, 2, 3, 4]\n",
    "\n",
    "Teniendo en cuenta que la variable aleatoria X puede tomar cualquiera de estos valores de la lista, \n",
    "debemos **calcular la media de X = E(X)**. Es decir, la media de todos esos valores:\n",
    "\n",
    "- **Media de goles por partido** = E(X) = 2.29 \n",
    "\n",
    "Al conseguir la media de X, podemos establecer la variable a, que quiere decir el valor mínimo o limite de la probabilidad. Es decir, que cual es la probabilidad de que `a` o mayor igual a `a` sea cierto.\n",
    "\n",
    "X siempre debe ser >= a un número que a su vez, sea >= a E(X), su media.\n",
    "\n",
    "Podemos establecer la variable `a` en 3, dado que a puede ser **cualquier valor > 0.**\n",
    "\n",
    "> **- Reemplazamos:** `P(X >= 3) <= E(X) / 3`\n",
    ">\n",
    "> **- Reemplazamos:** `P(X >= 3) <= 2.29 / 3`\n",
    ">\n",
    "> **- Reemplazamos:** `P(X >= 3) <= 0.76`\n",
    "\n",
    "Esto se interpreta que **la probabilidad de que se anote 3 goles por partido es menor o igual que 0.76%** o **la probabilidad de que X sea mayor igual a 3, es menor igual que 0.76%**\n",
    "\n",
    "=============================================================================================================================\n",
    "\n"
   ]
  },
  {
   "cell_type": "code",
   "execution_count": 8,
   "id": "4e2b10af",
   "metadata": {},
   "outputs": [
    {
     "name": "stdout",
     "output_type": "stream",
     "text": [
      "La media de goles por partido es: 2.29\n",
      "La probabilidad de que se anoten al menos 3 goles por partido es: 0.43\n",
      "La probabilidad de que la variable aleatoria sea mayor o igual que 3 es menor o igual que: 0.76\n"
     ]
    },
    {
     "data": {
      "image/png": "[encoded data removed]",
      "text/plain": [
       "<Figure size 640x480 with 1 Axes>"
      ]
     },
     "metadata": {},
     "output_type": "display_data"
    }
   ],
   "source": [
    "import numpy as np\n",
    "import matplotlib.pyplot as plt\n",
    "\n",
    "# Definir los datos\n",
    "goles_por_partido = np.array([3, 2, 1, 1, 2, 3, 4])\n",
    "media = round(np.mean(goles_por_partido), 2)\n",
    "\n",
    "# Establecer el valor límite\n",
    "a = 3\n",
    "\n",
    "# Calcular la probabilidad utilizando la desigualdad de Markov\n",
    "probabilidad = round(np.mean(goles_por_partido >= a), 2) # es igual a P(X >= a) <= E(X) / a\n",
    "limite_superior_probabilidad = round(media / a, 2)\n",
    "\n",
    "# Mostrar los resultados\n",
    "if(probabilidad <= limite_superior_probabilidad):\n",
    "    print(\"La media de goles por partido es:\", media)\n",
    "    print(f\"La probabilidad de que se anoten al menos {a} goles por partido es:\", probabilidad)\n",
    "    print(f\"La probabilidad de que la variable aleatoria sea mayor o igual que {a} es menor o igual que:\", limite_superior_probabilidad)\n",
    "else:\n",
    "    print(\"La desigualdad no se cumple, revisar datos.\")\n",
    "\n",
    "# Visualizar los datos\n",
    "plt.hist(goles_por_partido, bins=range(min(goles_por_partido), max(goles_por_partido) + 2))\n",
    "plt.axvline(x=a, color='r', linestyle='--')\n",
    "plt.xlabel('Goles por partido')\n",
    "plt.ylabel('Frecuencia')\n",
    "plt.title('Distribución de goles por partido')\n",
    "plt.show()"
   ]
  },
  {
   "cell_type": "markdown",
   "id": "13afbefd",
   "metadata": {},
   "source": [
    "==============================================================================================================================\n",
    "\n",
    "En general, la desigualdad de Markov se utiliza cuando se tiene una variable aleatoria positiva y se quiere establecer un límite superior en la probabilidad de que la variable tome valores grandes, sin necesidad de conocer la distribución completa de la variable. **Es decir, es una herramienta útil cuando se tiene poca información sobre la variable aleatoria, pero se conoce su media o valor esperado.**\n",
    "\n",
    "En este ejemplo, se tuvo acceso a la lista de los goles por partido solo para explicar que eso sería la variable aleatoria X. Sin embargo, **esto se utiliza cuando no tenemos acceso a dichos datos y solamente nos limitamos a la media.**\n",
    "\n",
    "La desigualdad de Markov es útil para acotar la probabilidad de que una variable aleatoria tome valores grandes, independientemente de la distancia de esos valores a su media. Esa es la diferencia con la **desigualdad de Chebyshev.**\n",
    "\n",
    "==============================================================================================================================="
   ]
  },
  {
   "cell_type": "markdown",
   "id": "4160924e",
   "metadata": {},
   "source": [
    "## **Segundo ejemplo = U. de chile**\n",
    "\n",
    "¿Cuál es la probabilidad de que la U. de Chile gane su partido contra Colo-Colo. \n",
    "\n",
    "**Datos:**\n",
    "- **U. de Chile** = 6 Partidos ganados.\n",
    "- **Colo - Colo** = 4 Partidos ganados.\n",
    "\n",
    "- **Total** = 10 partidos.\n",
    "\n",
    "===============================================================================================================================\n",
    "\n",
    "- **E(X)** = 6/10 = 0.6\n",
    "- **a** = 0.8\n",
    "\n",
    "- **Formula** = P(X >= a) <= E(X) / a\n",
    "- **Reemplazamos** = P(X >= 0.8) <= 0.6 / 0.8\n",
    "- **Reemplazamos** = P(X >= 0.8) <= 0.75\n",
    "\n",
    "Es decir, la desigualdad de Markov establece que la probabilidad de que la U. de Chile gane en un **80%** o más de los partidos es como máximo del **75%**, pero la probabilidad real podría ser menor o incluso podría ser mayor (aunque esto último es menos probable).\n",
    "\n",
    "Podemos modificar esa variable **a** a cualquier valor no negativo, por lo cual, podemos modificarla a **90%** y vemos que puede pasar.\n",
    "\n",
    "- **Reemplazamos** = P(X >= 0.9) <= 0.6 / 0.9\n",
    "- **Reemplazamos** = P(X >= 0.9) <= 0.6\n",
    "\n",
    "La probabilidad de que la U. de Chile gane en un **90%** o más de los partidos es como máximo del **60%**\n",
    "\n",
    "> **En este caso, no es recomendable utilizar Markov dado que solo hay un valor de interés que es el numero de partidos ganados = 6, y no una distribución dispersa de valores con probabilidad de arrojar un numero muy grande.**\n",
    "\n",
    "================================================================================================================================"
   ]
  },
  {
   "cell_type": "markdown",
   "id": "8457cded",
   "metadata": {},
   "source": [
    "## **Tercer ejemplo = Ataques por día**\n",
    "\n",
    "**Un ejemplo de la desigualdad de Markov en seguridad informática sería el siguiente:**\n",
    "\n",
    "Supongamos que un equipo de seguridad informática está tratando de evaluar la probabilidad de que un ataque informático tenga éxito en una determinada red de computadoras. Para hacer esto, podrían utilizar la desigualdad de Markov para estimar la probabilidad de que un **número X de intentos de ataque tengan éxito.**\n",
    "\n",
    "Por ejemplo, si se sabe que en **promedio ocurren 1000 intentos de ataque por día**, y se quiere **estimar la probabilidad de que al menos 10 intentos tengan éxito en un día determinado**, se podría aplicar la desigualdad de Markov. Supongamos que la probabilidad real de que un intento tenga éxito es muy baja, **digamos 0.001**. Entonces, se podría aplicar la desigualdad de Markov para estimar la probabilidad de que al menos 10 intentos tengan éxito de la siguiente manera:\n",
    "\n",
    "Datos:\n",
    "\n",
    "`E(X)` = media = sumatoria(xi * pi), donde xi son los posibles valores de X y pi son las probabilidades correspondientes para cada valor.\n",
    "\n",
    "En el caso del ejemplo, sólo hay dos posibles valores para **X: 0 y 1**. La probabilidad de que ocurra **X=0 es 0.999**, mientras que la probabilidad de que ocurra **X=1 es 0.001**. Por lo tanto, E(X) se calcula como:\n",
    "\n",
    "- `E(X)` = (0 * 0.999) + (1 * 0.001) = 1\n"
   ]
  },
  {
   "cell_type": "code",
   "execution_count": null,
   "id": "bd14be75",
   "metadata": {},
   "outputs": [],
   "source": []
  }
 ],
 "metadata": {
  "kernelspec": {
   "display_name": "Python 3 (ipykernel)",
   "language": "python",
   "name": "python3"
  },
  "language_info": {
   "codemirror_mode": {
    "name": "ipython",
    "version": 3
   },
   "file_extension": ".py",
   "mimetype": "text/x-python",
   "name": "python",
   "nbconvert_exporter": "python",
   "pygments_lexer": "ipython3",
   "version": "3.9.13"
  }
 },
 "nbformat": 4,
 "nbformat_minor": 5
}
