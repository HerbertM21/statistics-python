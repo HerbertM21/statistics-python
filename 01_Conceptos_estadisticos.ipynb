{
 "cells": [
  {
   "attachments": {},
   "cell_type": "markdown",
   "metadata": {},
   "source": [
    "## **CONCEPTOS ESTADISTICOS**\n",
    "\n",
    ">**Media**: Es la suma de todos los valores dividido entre el número de valores.\n",
    ">\n",
    "> Formula: $\\bar{x} = \\frac{1}{n}\\sum_{i=1}^{n}x_i$\n",
    ">\n",
    "\n",
    "> **Media muestral**: Es la suma de todos los valores dividido entre el número de valores.\n",
    ">\n",
    "> Formula: $\\bar{x} = \\frac{1}{n}\\sum_{i=1}^{n}x_i$\n",
    ">\n",
    "\n",
    "> **Varianza**: Es la suma de todos los valores al cuadrado dividido entre el número de valores menos uno.\n",
    ">\n",
    "> Se utiliza para medir la dispersión de los datos en torno a la media. Es un metodo diferente al de la desviación estandar.\n",
    ">\n",
    "> Formula: $s^2 = \\frac{1}{n}\\sum_{i=1}^{n}(x_i - \\bar{x})^2$\n",
    ">\n",
    "> Donde $s^2$ es la varianza, $n$ es el número de valores, $x_i$ es el valor de la muestra y $\\bar{x}$ es la media.\n",
    "\n",
    "> **Varianza muestral**: Es la suma de todos los valores al cuadrado dividido entre el número de valores menos uno.\n",
    ">\n",
    "> Se utiliza para medir la dispersión de los datos en torno a la media. Es un metodo diferente al de la desviación estandar.\n",
    ">\n",
    "> Formula: $s^2 = \\frac{1}{n-1}\\sum_{i=1}^{n}(x_i - \\bar{x})^2$\n",
    ">\n",
    "> Donde $s^2$ es la varianza, $n$ es el número de valores, $x_i$ es el valor de la muestra y $\\bar{x}$ es la media muestral.\n",
    "\n",
    "> **Desviación estandar**: Es la raiz cuadrada de la varianza.\n",
    ">\n",
    "> Se utiliza para medir la dispersión de los datos en torno a la media. Es un metodo diferente al de la varianza.\n",
    "> Es una medida mucho mas intuitiva que la varianza y es mas facil de interpretar.\n",
    ">\n",
    "> Formula: $s = \\sqrt{\\frac{1}{n}\\sum_{i=1}^{n}(x_i - \\bar{x})^2}$\n",
    ">\n",
    "> Donde $s$ es la desviación estandar, $n$ es el número de valores, $x_i$ es el valor de la muestra y $\\bar{x}$ es la media.\n",
    ">\n",
    "\n",
    "> **Desviación estandar muestral**: Es la raiz cuadrada de la varianza muestral.\n",
    ">\n",
    "> Se utiliza para medir la dispersión de los datos en torno a la media. Es un metodo diferente al de la varianza.\n",
    "> Es una medida mucho mas intuitiva que la varianza y es mas facil de interpretar.\n",
    ">\n",
    "> Formula: $s = \\sqrt{\\frac{1}{n-1}\\sum_{i=1}^{n}(x_i - \\bar{x})^2}$\n",
    ">\n",
    "> Donde $s$ es la desviación estandar, $n$ es el número de valores, $x_i$ es el valor de la muestra y $\\bar{x}$ es la media muestral.\n",
    "\n",
    "---\n",
    "\n",
    "## **USO EN PYTHON**"
   ]
  },
  {
   "cell_type": "code",
   "execution_count": 2,
   "metadata": {},
   "outputs": [
    {
     "name": "stdout",
     "output_type": "stream",
     "text": [
      "5.5\n"
     ]
    }
   ],
   "source": [
    "# Calculo de la media de los datos\n",
    "\n",
    "import numpy as np\n",
    "\n",
    "x = np.array([1, 2, 3, 4, 5, 6, 7, 8, 9, 10])\n",
    "\n",
    "media = np.mean(x)\n",
    "\n",
    "print(media)"
   ]
  },
  {
   "cell_type": "code",
   "execution_count": 5,
   "metadata": {},
   "outputs": [
    {
     "name": "stdout",
     "output_type": "stream",
     "text": [
      "8.25\n"
     ]
    }
   ],
   "source": [
    "# Calculo de la varianza de los datos\n",
    "\n",
    "import numpy as np\n",
    "\n",
    "x = np.array([1, 2, 3, 4, 5, 6, 7, 8, 9, 10])\n",
    "\n",
    "varianza = np.var(x)\n",
    "\n",
    "print(varianza)"
   ]
  },
  {
   "cell_type": "code",
   "execution_count": 3,
   "metadata": {},
   "outputs": [
    {
     "name": "stdout",
     "output_type": "stream",
     "text": [
      "9.166666666666666\n"
     ]
    }
   ],
   "source": [
    "# Calculo de la varianza muestral de los datos\n",
    "\n",
    "import numpy as np\n",
    "\n",
    "x = np.array([1, 2, 3, 4, 5, 6, 7, 8, 9, 10])\n",
    "\n",
    "# DDOF = 1 para calcular la varianza muestral\n",
    "# Dado que la varianza muestral es la varianza de la población dividida entre n-1\n",
    "# DDOF significa Delta Degrees of Freedom (grados de libertad) \n",
    "# y es el número de grados de libertad que se restan de la muestra para calcular la varianza muestral\n",
    "\n",
    "varianza_muestral = np.var(x, ddof=1)\n",
    "\n",
    "print(varianza_muestral)"
   ]
  },
  {
   "cell_type": "code",
   "execution_count": 7,
   "metadata": {},
   "outputs": [
    {
     "name": "stdout",
     "output_type": "stream",
     "text": [
      "2.8722813232690143\n"
     ]
    }
   ],
   "source": [
    "# Calculo de la desviación estándar de los datos\n",
    "\n",
    "import numpy as np\n",
    "\n",
    "x = np.array([1, 2, 3, 4, 5, 6, 7, 8, 9, 10])\n",
    "\n",
    "desviacion_estandar = np.std(x)\n",
    "\n",
    "print(desviacion_estandar)\n"
   ]
  },
  {
   "cell_type": "code",
   "execution_count": 6,
   "metadata": {},
   "outputs": [
    {
     "name": "stdout",
     "output_type": "stream",
     "text": [
      "3.0276503540974917\n"
     ]
    }
   ],
   "source": [
    "# Calculo de la desviación estándar muestral de los datos\n",
    "\n",
    "import numpy as np\n",
    "\n",
    "x = np.array([1, 2, 3, 4, 5, 6, 7, 8, 9, 10])\n",
    "\n",
    "# DDOF = 1 para calcular la desviación estándar muestral\n",
    "# Dado que la desviación estándar muestral es la desviación estándar de la población dividida entre n-1\n",
    "# DDOF significa Delta Degrees of Freedom (grados de libertad)\n",
    "# y es el número de grados de libertad que se restan de la muestra para calcular la desviación estándar muestral\n",
    "\n",
    "desviacion_estandar_muestral = np.std(x, ddof=1)\n",
    "\n",
    "print(desviacion_estandar_muestral)"
   ]
  }
 ],
 "metadata": {
  "kernelspec": {
   "display_name": "Python 3",
   "language": "python",
   "name": "python3"
  },
  "language_info": {
   "codemirror_mode": {
    "name": "ipython",
    "version": 3
   },
   "file_extension": ".py",
   "mimetype": "text/x-python",
   "name": "python",
   "nbconvert_exporter": "python",
   "pygments_lexer": "ipython3",
   "version": "3.11.1"
  },
  "orig_nbformat": 4
 },
 "nbformat": 4,
 "nbformat_minor": 2
}
